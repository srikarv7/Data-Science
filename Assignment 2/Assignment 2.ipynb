{
 "cells": [
  {
   "cell_type": "code",
   "execution_count": 5,
   "id": "cf9cd99f",
   "metadata": {
    "tags": []
   },
   "outputs": [],
   "source": [
    "import numpy as np\n",
    "import pandas as pd\n",
    "import matplotlib.pyplot as plt"
   ]
  },
  {
   "cell_type": "markdown",
   "id": "bea46112",
   "metadata": {},
   "source": [
    "What is machine learning? Where and why \n",
    "you will use machine learning? "
   ]
  },
  {
   "cell_type": "markdown",
   "id": "68c549de",
   "metadata": {},
   "source": [
    "Machine learning (ML) is a type of artificial intelligence (AI) that allows software applications to become more accurate at \n",
    "predicting outcomes without being explicitly programmed to do so\n",
    "We can use machine learning applicatiuons where we cannot hard code the rules. Example, if we were tasked with segregating \n",
    "emails as either spam of ham, we can not hard code the algorithm since it requires a level of analysis. Also, if we have a million \n",
    "emails that need to be labeled, we cnat manually do it. Hence, we need an machine learning algorithm to categorize it as spam or \n",
    "ham."
   ]
  },
  {
   "cell_type": "markdown",
   "id": "447d90d6",
   "metadata": {},
   "source": [
    "What is normalization and why do you \n",
    "perform? Explain with examples. How do you  \n",
    "perform it? "
   ]
  },
  {
   "cell_type": "markdown",
   "id": "7549267b",
   "metadata": {},
   "source": [
    "__Ans.__ Normalization is an data preperation technique. We use it to transform the data/columns in a data set to the same scale. This ensures that we are getting the results in the same scale and that we give equal importance to all the features when performing machine learning predictions. \n",
    "\n",
    "__Example:__\n",
    "If we take features such as height and income, since these 2 features are measuring in a different way in that the former is measured in centimeters or meters. On the other hand, income can be either measured in dollars or other currencies depending on the country of origin of the amount. Therefore, when we are dealing with machine learning, we should ensure that importance is not given to one feature while neglecting the other. We would be hence performing normalization. \n",
    "\n",
    "Min-max normalization: We take the minimum value of a particular feature and we subtract it from all the other values in our feature. We divide this result with the difference between the maximum value and the minimum value to get the normalized results.\n",
    "\n",
    "Standardization: There is a second way in which we can perform normalization. We take the standard deviation of each feature and we take the mean of a particular feature. We subtract each value from a feature with the mean and divide the result with the standard deviation of this feature to get normalized results. \n",
    "\n",
    "Mean Normalization: We take the mean value of a particular feature and we subtract it from all the other values in our feature. We divide this result with the difference between the maximum value and the minimum value to get the normalized results."
   ]
  },
  {
   "cell_type": "markdown",
   "id": "f51c7fa3",
   "metadata": {},
   "source": [
    "What is supervised and unsupervised \n",
    "learning? Give some examples "
   ]
  },
  {
   "cell_type": "markdown",
   "id": "462555a3",
   "metadata": {},
   "source": [
    "Supervised learning is the learning algorithm performed on labeled dataset. Unsupervised is performned on unlabled dataset. \n",
    "Examples of supervised learning:\n",
    "\n",
    "    1) Weather to give a loan or not based on previous data. Here, we provide labled data to the algorithm for the applications that were \n",
    "        approved for loan and for those that were not. The algorithm will predict if an applicant is eligible for the loan.\n",
    "Unsupervised learning: Unsupervised Learning is performed on datasets that do not contain any labels or explicit instructions\n",
    "    on what to do with it. The goal is for the learning algorithm to find structure in the input data on its own.\n",
    "    Examples:\n",
    "    \n",
    "    1) Clustering based on customer segmentation. We would be segmenting the customers in applications such as e-commerce where the behavior of the customers is segmentated and understood based on their interests. We would classify the customers based on their user behavior with the aid of unsupervised machine learning (clustering). After successfully clustering, we can give offers to various customers depending on their interests. "
   ]
  },
  {
   "cell_type": "code",
   "execution_count": 78,
   "id": "cdcf2b89",
   "metadata": {},
   "outputs": [],
   "source": [
    "#Change the path of the file location appropriately\n",
    "\n",
    "df = pd.read_csv(\"WorldRecords_1.csv\",encoding = 'latin')"
   ]
  },
  {
   "cell_type": "code",
   "execution_count": 79,
   "id": "f15e14f7",
   "metadata": {},
   "outputs": [
    {
     "name": "stdout",
     "output_type": "stream",
     "text": [
      "<class 'pandas.core.frame.DataFrame'>\n",
      "RangeIndex: 285 entries, 0 to 284\n",
      "Data columns (total 7 columns):\n",
      " #   Column       Non-Null Count  Dtype  \n",
      "---  ------       --------------  -----  \n",
      " 0   Event        285 non-null    object \n",
      " 1   Type         285 non-null    object \n",
      " 2   Record       285 non-null    float64\n",
      " 3   Athlete      285 non-null    object \n",
      " 4   Nationality  285 non-null    object \n",
      " 5   Location     285 non-null    object \n",
      " 6   Year         285 non-null    int64  \n",
      "dtypes: float64(1), int64(1), object(5)\n",
      "memory usage: 15.7+ KB\n"
     ]
    }
   ],
   "source": [
    "'''  \n",
    "Q1 print the basic information about the data set\n",
    "'''\n",
    "df.info()"
   ]
  },
  {
   "cell_type": "code",
   "execution_count": 80,
   "id": "cb95fbb5",
   "metadata": {},
   "outputs": [
    {
     "data": {
      "text/plain": [
       "Mens Polevault     55\n",
       "Womens Shotput     41\n",
       "Mens Shotput       39\n",
       "Mens Mile          32\n",
       "Womens 800m        29\n",
       "Mens TripleJump    25\n",
       "Mens 800m          24\n",
       "Mens 100m          17\n",
       "Womens Mile        13\n",
       "Womens 100m        10\n",
       "Name: Event, dtype: int64"
      ]
     },
     "execution_count": 80,
     "metadata": {},
     "output_type": "execute_result"
    }
   ],
   "source": [
    "'''\n",
    "Q2 How many different types of events (e.g. “Mens 100m”, “Womens shotput” etc) are represented in the dataset\n",
    "'''\n",
    "df['Event'].value_counts() # number of people in each event"
   ]
  },
  {
   "cell_type": "code",
   "execution_count": 90,
   "id": "2ca85793",
   "metadata": {},
   "outputs": [
    {
     "data": {
      "text/plain": [
       "10"
      ]
     },
     "execution_count": 90,
     "metadata": {},
     "output_type": "execute_result"
    }
   ],
   "source": [
    "len(df.groupby('Event')['Record'].mean().index)"
   ]
  },
  {
   "cell_type": "code",
   "execution_count": 10,
   "id": "df96e7a4",
   "metadata": {},
   "outputs": [
    {
     "data": {
      "text/plain": [
       "2008"
      ]
     },
     "execution_count": 10,
     "metadata": {},
     "output_type": "execute_result"
    }
   ],
   "source": [
    "'''\n",
    "Q3. In what year did Usain Bolt first break the world record for the Men’s 100m?\n",
    "\n",
    "'''\n",
    "\n",
    "df[(df['Event']=='Mens 100m') & (df['Athlete']=='Usain Bolt')]['Year'].min()"
   ]
  },
  {
   "cell_type": "code",
   "execution_count": 11,
   "id": "c376eaaa",
   "metadata": {},
   "outputs": [],
   "source": [
    "'''\n",
    "Q4.Create a subset of the dataset that contains only the world record cases for men’s shotput and women’s shotput\n",
    "\n",
    "'''\n",
    "\n",
    "df1=df[(df['Event']=='Mens Shotput') | (df['Event']=='Womens Shotput')]"
   ]
  },
  {
   "cell_type": "code",
   "execution_count": 12,
   "id": "d4a8cfb0-6f1a-44f3-b82c-8410578b0fc6",
   "metadata": {},
   "outputs": [
    {
     "data": {
      "text/html": [
       "<div>\n",
       "<style scoped>\n",
       "    .dataframe tbody tr th:only-of-type {\n",
       "        vertical-align: middle;\n",
       "    }\n",
       "\n",
       "    .dataframe tbody tr th {\n",
       "        vertical-align: top;\n",
       "    }\n",
       "\n",
       "    .dataframe thead th {\n",
       "        text-align: right;\n",
       "    }\n",
       "</style>\n",
       "<table border=\"1\" class=\"dataframe\">\n",
       "  <thead>\n",
       "    <tr style=\"text-align: right;\">\n",
       "      <th></th>\n",
       "      <th>Event</th>\n",
       "      <th>Type</th>\n",
       "      <th>Record</th>\n",
       "      <th>Athlete</th>\n",
       "      <th>Nationality</th>\n",
       "      <th>Location</th>\n",
       "      <th>Year</th>\n",
       "    </tr>\n",
       "  </thead>\n",
       "  <tbody>\n",
       "    <tr>\n",
       "      <th>205</th>\n",
       "      <td>Mens Shotput</td>\n",
       "      <td>distance</td>\n",
       "      <td>17.68</td>\n",
       "      <td>Charlie Fonville</td>\n",
       "      <td>USA</td>\n",
       "      <td>Lawrence, U.S.</td>\n",
       "      <td>1948</td>\n",
       "    </tr>\n",
       "    <tr>\n",
       "      <th>206</th>\n",
       "      <td>Mens Shotput</td>\n",
       "      <td>distance</td>\n",
       "      <td>17.79</td>\n",
       "      <td>Jim Fuchs</td>\n",
       "      <td>USA</td>\n",
       "      <td>Oslo, Norway</td>\n",
       "      <td>1949</td>\n",
       "    </tr>\n",
       "    <tr>\n",
       "      <th>207</th>\n",
       "      <td>Mens Shotput</td>\n",
       "      <td>distance</td>\n",
       "      <td>17.82</td>\n",
       "      <td>Jim Fuchs</td>\n",
       "      <td>USA</td>\n",
       "      <td>Los Angeles, U.S.</td>\n",
       "      <td>1950</td>\n",
       "    </tr>\n",
       "    <tr>\n",
       "      <th>208</th>\n",
       "      <td>Mens Shotput</td>\n",
       "      <td>distance</td>\n",
       "      <td>17.90</td>\n",
       "      <td>Jim Fuchs</td>\n",
       "      <td>USA</td>\n",
       "      <td>Visby, Sweden</td>\n",
       "      <td>1950</td>\n",
       "    </tr>\n",
       "    <tr>\n",
       "      <th>209</th>\n",
       "      <td>Mens Shotput</td>\n",
       "      <td>distance</td>\n",
       "      <td>17.95</td>\n",
       "      <td>Jim Fuchs</td>\n",
       "      <td>USA</td>\n",
       "      <td>Eskilstuna, Sweden</td>\n",
       "      <td>1950</td>\n",
       "    </tr>\n",
       "    <tr>\n",
       "      <th>...</th>\n",
       "      <td>...</td>\n",
       "      <td>...</td>\n",
       "      <td>...</td>\n",
       "      <td>...</td>\n",
       "      <td>...</td>\n",
       "      <td>...</td>\n",
       "      <td>...</td>\n",
       "    </tr>\n",
       "    <tr>\n",
       "      <th>280</th>\n",
       "      <td>Womens Shotput</td>\n",
       "      <td>distance</td>\n",
       "      <td>22.36</td>\n",
       "      <td>Ilona Slupianek</td>\n",
       "      <td>GDR</td>\n",
       "      <td>Celje, Yugoslavia</td>\n",
       "      <td>1980</td>\n",
       "    </tr>\n",
       "    <tr>\n",
       "      <th>281</th>\n",
       "      <td>Womens Shotput</td>\n",
       "      <td>distance</td>\n",
       "      <td>22.45</td>\n",
       "      <td>Ilona Slupianek</td>\n",
       "      <td>GDR</td>\n",
       "      <td>Potsdam, East Germany</td>\n",
       "      <td>1980</td>\n",
       "    </tr>\n",
       "    <tr>\n",
       "      <th>282</th>\n",
       "      <td>Womens Shotput</td>\n",
       "      <td>distance</td>\n",
       "      <td>22.53</td>\n",
       "      <td>Natalya Lisovskaya</td>\n",
       "      <td>URS</td>\n",
       "      <td>Sochi, Soviet Union</td>\n",
       "      <td>1984</td>\n",
       "    </tr>\n",
       "    <tr>\n",
       "      <th>283</th>\n",
       "      <td>Womens Shotput</td>\n",
       "      <td>distance</td>\n",
       "      <td>22.60</td>\n",
       "      <td>Natalya Lisovskaya</td>\n",
       "      <td>URS</td>\n",
       "      <td>Moscow, Soviet Union</td>\n",
       "      <td>1987</td>\n",
       "    </tr>\n",
       "    <tr>\n",
       "      <th>284</th>\n",
       "      <td>Womens Shotput</td>\n",
       "      <td>distance</td>\n",
       "      <td>22.63</td>\n",
       "      <td>Natalya Lisovskaya</td>\n",
       "      <td>URS</td>\n",
       "      <td>Moscow, Soviet Union</td>\n",
       "      <td>1987</td>\n",
       "    </tr>\n",
       "  </tbody>\n",
       "</table>\n",
       "<p>80 rows × 7 columns</p>\n",
       "</div>"
      ],
      "text/plain": [
       "              Event      Type  Record             Athlete Nationality  \\\n",
       "205    Mens Shotput  distance   17.68    Charlie Fonville         USA   \n",
       "206    Mens Shotput  distance   17.79           Jim Fuchs         USA   \n",
       "207    Mens Shotput  distance   17.82           Jim Fuchs         USA   \n",
       "208    Mens Shotput  distance   17.90           Jim Fuchs         USA   \n",
       "209    Mens Shotput  distance   17.95           Jim Fuchs         USA   \n",
       "..              ...       ...     ...                 ...         ...   \n",
       "280  Womens Shotput  distance   22.36     Ilona Slupianek         GDR   \n",
       "281  Womens Shotput  distance   22.45     Ilona Slupianek         GDR   \n",
       "282  Womens Shotput  distance   22.53  Natalya Lisovskaya         URS   \n",
       "283  Womens Shotput  distance   22.60  Natalya Lisovskaya         URS   \n",
       "284  Womens Shotput  distance   22.63  Natalya Lisovskaya         URS   \n",
       "\n",
       "                  Location  Year  \n",
       "205         Lawrence, U.S.  1948  \n",
       "206           Oslo, Norway  1949  \n",
       "207      Los Angeles, U.S.  1950  \n",
       "208          Visby, Sweden  1950  \n",
       "209     Eskilstuna, Sweden  1950  \n",
       "..                     ...   ...  \n",
       "280      Celje, Yugoslavia  1980  \n",
       "281  Potsdam, East Germany  1980  \n",
       "282    Sochi, Soviet Union  1984  \n",
       "283   Moscow, Soviet Union  1987  \n",
       "284   Moscow, Soviet Union  1987  \n",
       "\n",
       "[80 rows x 7 columns]"
      ]
     },
     "execution_count": 12,
     "metadata": {},
     "output_type": "execute_result"
    }
   ],
   "source": [
    "df1"
   ]
  },
  {
   "cell_type": "code",
   "execution_count": 13,
   "id": "5353717c",
   "metadata": {},
   "outputs": [
    {
     "data": {
      "text/plain": [
       "Text(0.5, 1.0, 'Mens Shotput')"
      ]
     },
     "execution_count": 13,
     "metadata": {},
     "output_type": "execute_result"
    },
    {
     "data": {
      "image/png": "[encoded data removed]",
      "text/plain": [
       "<Figure size 432x288 with 1 Axes>"
      ]
     },
     "metadata": {
      "needs_background": "light"
     },
     "output_type": "display_data"
    }
   ],
   "source": [
    "'''\n",
    "Q5 Create a scatter plot of the year and record shotput distance one for men and one for women.\n",
    "\n",
    "'''\n",
    "df1=df[(df['Event']=='Mens Shotput')]\n",
    "plt.scatter(x=df1['Year'], y=df1['Record'])\n",
    "plt.title('Mens Shotput')"
   ]
  },
  {
   "cell_type": "code",
   "execution_count": 14,
   "id": "6880e93d-ce67-4a47-b2a4-ae7b4776dc0d",
   "metadata": {},
   "outputs": [
    {
     "data": {
      "text/plain": [
       "Text(0.5, 1.0, 'Womens Shotput')"
      ]
     },
     "execution_count": 14,
     "metadata": {},
     "output_type": "execute_result"
    },
    {
     "data": {
      "image/png": "[encoded data removed]",
      "text/plain": [
       "<Figure size 432x288 with 1 Axes>"
      ]
     },
     "metadata": {
      "needs_background": "light"
     },
     "output_type": "display_data"
    }
   ],
   "source": [
    "df2=df[(df['Event']=='Womens Shotput')]\n",
    "plt.scatter(x=df2['Year'], y=df2['Record'])\n",
    "plt.title('Womens Shotput')"
   ]
  },
  {
   "cell_type": "code",
   "execution_count": 43,
   "id": "b6059585",
   "metadata": {},
   "outputs": [
    {
     "data": {
      "text/plain": [
       "Event\n",
       "Mens 100m            9.848824\n",
       "Mens 800m          105.345833\n",
       "Mens Mile          237.493750\n",
       "Mens Polevault       5.608909\n",
       "Mens Shotput        20.194872\n",
       "Mens TripleJump     16.671200\n",
       "Womens 100m         10.880000\n",
       "Womens 800m        127.851724\n",
       "Womens Mile        263.653846\n",
       "Womens Shotput      19.139756\n",
       "Name: Record, dtype: float64"
      ]
     },
     "execution_count": 43,
     "metadata": {},
     "output_type": "execute_result"
    }
   ],
   "source": [
    "'''\n",
    "Q6 Find the average/mean  time for each event. How many athletes have time more than average in each event.\n",
    "\n",
    "'''\n",
    "df.groupby(['Event'])['Record'].mean() #the mean time for each event"
   ]
  },
  {
   "cell_type": "code",
   "execution_count": 67,
   "id": "fc14906e",
   "metadata": {},
   "outputs": [
    {
     "data": {
      "text/plain": [
       "Event\n",
       "Mens 100m           9\n",
       "Mens 800m          10\n",
       "Mens Mile          15\n",
       "Mens Polevault     31\n",
       "Mens Shotput       16\n",
       "Mens TripleJump    12\n",
       "Womens 100m         6\n",
       "Womens 800m        13\n",
       "Womens Mile         5\n",
       "Womens Shotput     21\n",
       "Name: Record_x, dtype: int64"
      ]
     },
     "execution_count": 67,
     "metadata": {},
     "output_type": "execute_result"
    }
   ],
   "source": [
    "df_event_grouped = df.groupby(['Event'])['Record'].mean().to_frame()\n",
    "df_merged = df.merge(df_event_grouped, how = 'left', on = 'Event')\n",
    "df_merged[df_merged['Record_x'] > df_merged['Record_y']].groupby(by = 'Event')['Record_x'].count()\n",
    "#the number of people that are above mean for each event"
   ]
  },
  {
   "cell_type": "code",
   "execution_count": 11,
   "id": "5c30ad84",
   "metadata": {},
   "outputs": [
    {
     "name": "stdout",
     "output_type": "stream",
     "text": [
      "Athlete    Usain Bolt\n",
      "Record          10.06\n",
      "dtype: object\n",
      "Athlete    Wyomia Tyus\n",
      "Record           11.07\n",
      "dtype: object\n"
     ]
    }
   ],
   "source": [
    "'''\n",
    "Q7 Select the athlete who took most time in men’s 100m  and women’s event.\n",
    "'''\n",
    "print(df[(df['Event']=='Mens 100m')][['Athlete','Record']].max()) #hghest in men 100m\n",
    "print(df[(df['Event']=='Womens 100m')][['Athlete','Record']].max()) #highest in womens 100m"
   ]
  },
  {
   "cell_type": "code",
   "execution_count": 66,
   "id": "eceb89a7",
   "metadata": {},
   "outputs": [
    {
     "data": {
      "text/plain": [
       "'United States'"
      ]
     },
     "execution_count": 66,
     "metadata": {},
     "output_type": "execute_result"
    }
   ],
   "source": [
    "'''\n",
    "Q8 Which country won maximum times of men’s 100m event?\n",
    "'''\n",
    "df[df['Event'] == 'Mens 100m']['Nationality'].value_counts().index[0]"
   ]
  },
  {
   "cell_type": "code",
   "execution_count": 13,
   "id": "161ee57e",
   "metadata": {},
   "outputs": [
    {
     "data": {
      "text/plain": [
       "Event\n",
       "Mens 100m          17\n",
       "Mens 800m          24\n",
       "Mens Mile          32\n",
       "Mens Polevault     55\n",
       "Mens Shotput       39\n",
       "Mens TripleJump    25\n",
       "Womens 100m        10\n",
       "Womens 800m        29\n",
       "Womens Mile        13\n",
       "Womens Shotput     41\n",
       "Name: Athlete, dtype: int64"
      ]
     },
     "execution_count": 13,
     "metadata": {},
     "output_type": "execute_result"
    }
   ],
   "source": [
    "'''\n",
    "Q9 How many athletes are there in each event?\n",
    "\n",
    "'''\n",
    "df.groupby(['Event'])['Athlete'].count()"
   ]
  }
 ],
 "metadata": {
  "kernelspec": {
   "display_name": "Python 3 (ipykernel)",
   "language": "python",
   "name": "python3"
  },
  "language_info": {
   "codemirror_mode": {
    "name": "ipython",
    "version": 3
   },
   "file_extension": ".py",
   "mimetype": "text/x-python",
   "name": "python",
   "nbconvert_exporter": "python",
   "pygments_lexer": "ipython3",
   "version": "3.9.7"
  }
 },
 "nbformat": 4,
 "nbformat_minor": 5
}
